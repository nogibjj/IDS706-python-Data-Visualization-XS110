{
 "cells": [
  {
   "cell_type": "code",
   "execution_count": 1,
   "metadata": {},
   "outputs": [],
   "source": [
    "import pandas as pd\n",
    "import matplotlib.pyplot as plt\n",
    "\n",
    "GY_data = pd.read_csv('/workspaces/IDS706-python-Data-Visualization-XS110/Global YouTube Statistics.csv', encoding=\"ISO-8859-1\")\n",
    "\n"
   ]
  },
  {
   "cell_type": "code",
   "execution_count": 2,
   "metadata": {},
   "outputs": [
    {
     "data": {
      "text/plain": [
       "Index(['rank', 'Youtuber', 'subscribers', 'video views', 'category', 'Title',\n",
       "       'uploads', 'Country', 'Abbreviation', 'channel_type',\n",
       "       'video_views_rank', 'country_rank', 'channel_type_rank',\n",
       "       'video_views_for_the_last_30_days', 'lowest_monthly_earnings',\n",
       "       'highest_monthly_earnings', 'lowest_yearly_earnings',\n",
       "       'highest_yearly_earnings', 'subscribers_for_last_30_days',\n",
       "       'created_year', 'created_month', 'created_date',\n",
       "       'Gross tertiary education enrollment (%)', 'Population',\n",
       "       'Unemployment rate', 'Urban_population', 'Latitude', 'Longitude'],\n",
       "      dtype='object')"
      ]
     },
     "execution_count": 2,
     "metadata": {},
     "output_type": "execute_result"
    }
   ],
   "source": [
    "GY_data.columns"
   ]
  },
  {
   "cell_type": "code",
   "execution_count": 3,
   "metadata": {},
   "outputs": [
    {
     "data": {
      "text/html": [
       "<div>\n",
       "<style scoped>\n",
       "    .dataframe tbody tr th:only-of-type {\n",
       "        vertical-align: middle;\n",
       "    }\n",
       "\n",
       "    .dataframe tbody tr th {\n",
       "        vertical-align: top;\n",
       "    }\n",
       "\n",
       "    .dataframe thead th {\n",
       "        text-align: right;\n",
       "    }\n",
       "</style>\n",
       "<table border=\"1\" class=\"dataframe\">\n",
       "  <thead>\n",
       "    <tr style=\"text-align: right;\">\n",
       "      <th></th>\n",
       "      <th>subscribers</th>\n",
       "      <th>video views</th>\n",
       "      <th>uploads</th>\n",
       "    </tr>\n",
       "  </thead>\n",
       "  <tbody>\n",
       "    <tr>\n",
       "      <th>0</th>\n",
       "      <td>245000000</td>\n",
       "      <td>2.280000e+11</td>\n",
       "      <td>20082</td>\n",
       "    </tr>\n",
       "    <tr>\n",
       "      <th>1</th>\n",
       "      <td>170000000</td>\n",
       "      <td>0.000000e+00</td>\n",
       "      <td>1</td>\n",
       "    </tr>\n",
       "    <tr>\n",
       "      <th>2</th>\n",
       "      <td>166000000</td>\n",
       "      <td>2.836884e+10</td>\n",
       "      <td>741</td>\n",
       "    </tr>\n",
       "    <tr>\n",
       "      <th>3</th>\n",
       "      <td>162000000</td>\n",
       "      <td>1.640000e+11</td>\n",
       "      <td>966</td>\n",
       "    </tr>\n",
       "    <tr>\n",
       "      <th>4</th>\n",
       "      <td>159000000</td>\n",
       "      <td>1.480000e+11</td>\n",
       "      <td>116536</td>\n",
       "    </tr>\n",
       "    <tr>\n",
       "      <th>...</th>\n",
       "      <td>...</td>\n",
       "      <td>...</td>\n",
       "      <td>...</td>\n",
       "    </tr>\n",
       "    <tr>\n",
       "      <th>990</th>\n",
       "      <td>12300000</td>\n",
       "      <td>9.029610e+09</td>\n",
       "      <td>1200</td>\n",
       "    </tr>\n",
       "    <tr>\n",
       "      <th>991</th>\n",
       "      <td>12300000</td>\n",
       "      <td>1.674410e+09</td>\n",
       "      <td>1500</td>\n",
       "    </tr>\n",
       "    <tr>\n",
       "      <th>992</th>\n",
       "      <td>12300000</td>\n",
       "      <td>2.214684e+09</td>\n",
       "      <td>2452</td>\n",
       "    </tr>\n",
       "    <tr>\n",
       "      <th>993</th>\n",
       "      <td>12300000</td>\n",
       "      <td>3.741235e+08</td>\n",
       "      <td>39</td>\n",
       "    </tr>\n",
       "    <tr>\n",
       "      <th>994</th>\n",
       "      <td>12300000</td>\n",
       "      <td>2.129774e+09</td>\n",
       "      <td>62</td>\n",
       "    </tr>\n",
       "  </tbody>\n",
       "</table>\n",
       "<p>995 rows × 3 columns</p>\n",
       "</div>"
      ],
      "text/plain": [
       "     subscribers   video views  uploads\n",
       "0      245000000  2.280000e+11    20082\n",
       "1      170000000  0.000000e+00        1\n",
       "2      166000000  2.836884e+10      741\n",
       "3      162000000  1.640000e+11      966\n",
       "4      159000000  1.480000e+11   116536\n",
       "..           ...           ...      ...\n",
       "990     12300000  9.029610e+09     1200\n",
       "991     12300000  1.674410e+09     1500\n",
       "992     12300000  2.214684e+09     2452\n",
       "993     12300000  3.741235e+08       39\n",
       "994     12300000  2.129774e+09       62\n",
       "\n",
       "[995 rows x 3 columns]"
      ]
     },
     "execution_count": 3,
     "metadata": {},
     "output_type": "execute_result"
    }
   ],
   "source": [
    "GY_data[['subscribers','video views','uploads']]"
   ]
  },
  {
   "cell_type": "code",
   "execution_count": 4,
   "metadata": {},
   "outputs": [
    {
     "name": "stdout",
     "output_type": "stream",
     "text": [
      "=== Dataset Overview ===\n",
      "   subscribers   video views  uploads\n",
      "0    245000000  2.280000e+11    20082\n",
      "1    170000000  0.000000e+00        1\n",
      "2    166000000  2.836884e+10      741\n",
      "3    162000000  1.640000e+11      966\n",
      "4    159000000  1.480000e+11   116536\n",
      "\n",
      "\n"
     ]
    }
   ],
   "source": [
    "#Top creators' subscriber counts, video views, upload frequency\n",
    "\n",
    "df = GY_data[['subscribers','video views','uploads']]\n",
    "\n",
    "# Head 5 rows\n",
    "print(\"=== Dataset Overview ===\")\n",
    "print(df.head())\n",
    "print(\"\\n\")"
   ]
  },
  {
   "cell_type": "code",
   "execution_count": 5,
   "metadata": {},
   "outputs": [
    {
     "name": "stdout",
     "output_type": "stream",
     "text": [
      "=== Descriptive Statistics Overview ===\n",
      "        subscribers   video views        uploads\n",
      "count  9.950000e+02  9.950000e+02     995.000000\n",
      "mean   2.298241e+07  1.103954e+10    9187.125628\n",
      "std    1.752611e+07  1.411084e+10   34151.352254\n",
      "min    1.230000e+07  0.000000e+00       0.000000\n",
      "25%    1.450000e+07  4.288145e+09     194.500000\n",
      "50%    1.770000e+07  7.760820e+09     729.000000\n",
      "75%    2.460000e+07  1.355470e+10    2667.500000\n",
      "max    2.450000e+08  2.280000e+11  301308.000000\n",
      "\n",
      "\n"
     ]
    }
   ],
   "source": [
    "# Summary statistics using the describe method\n",
    "summary_stats = df.describe()\n",
    "print(\"=== Descriptive Statistics Overview ===\")\n",
    "print(summary_stats)\n",
    "print(\"\\n\")"
   ]
  },
  {
   "cell_type": "code",
   "execution_count": 6,
   "metadata": {},
   "outputs": [
    {
     "name": "stdout",
     "output_type": "stream",
     "text": [
      "=== Mean, Median and Mode Overview ===\n",
      "Mean:\n",
      " subscribers    2.298241e+07\n",
      "video views    1.103954e+10\n",
      "uploads        9.187126e+03\n",
      "dtype: float64\n",
      "Median:\n",
      " subscribers    1.770000e+07\n",
      "video views    7.760820e+09\n",
      "uploads        7.290000e+02\n",
      "dtype: float64\n",
      "Mode:\n",
      " subscribers    12500000.0\n",
      "video views           0.0\n",
      "uploads               0.0\n",
      "Name: 0, dtype: float64\n",
      "\n",
      "\n"
     ]
    }
   ],
   "source": [
    "# Mean, Median and Mode\n",
    "print(\"=== Mean, Median and Mode Overview ===\")\n",
    "mean = df.mean()\n",
    "median = df.median()\n",
    "mode = df.mode().iloc[0]  # In case there are multiple modes\n",
    "print(\"Mean:\\n\", mean)\n",
    "print(\"Median:\\n\", median)\n",
    "print(\"Mode:\\n\", mode)\n",
    "print(\"\\n\")"
   ]
  },
  {
   "cell_type": "code",
   "execution_count": 7,
   "metadata": {},
   "outputs": [
    {
     "name": "stdout",
     "output_type": "stream",
     "text": [
      "=== Variance and standard deviation Overview ===\n",
      "Variance:\n",
      " subscribers    3.071644e+14\n",
      "video views    1.991159e+20\n",
      "uploads        1.166315e+09\n",
      "dtype: float64\n",
      "Standard Deviation:\n",
      " subscribers    1.752611e+07\n",
      "video views    1.411084e+10\n",
      "uploads        3.415135e+04\n",
      "dtype: float64\n"
     ]
    }
   ],
   "source": [
    "# Variance and standard deviation\n",
    "variance = df.var()\n",
    "std_deviation = df.std()\n",
    "print(\"=== Variance and standard deviation Overview ===\")\n",
    "print(\"Variance:\\n\", variance)\n",
    "print(\"Standard Deviation:\\n\", std_deviation)"
   ]
  },
  {
   "cell_type": "code",
   "execution_count": 8,
   "metadata": {},
   "outputs": [
    {
     "data": {
      "image/png": "[encoded data removed]",
      "text/plain": [
       "<Figure size 640x480 with 1 Axes>"
      ]
     },
     "metadata": {},
     "output_type": "display_data"
    }
   ],
   "source": [
    "plt.hist(df[['subscribers']], bins=20, color='blue', alpha=0.7)\n",
    "plt.xlabel('Value')\n",
    "plt.ylabel('Frequency')\n",
    "plt.title('Histogram of subscribers')\n",
    "plt.show()"
   ]
  },
  {
   "cell_type": "code",
   "execution_count": null,
   "metadata": {},
   "outputs": [],
   "source": []
  }
 ],
 "metadata": {
  "kernelspec": {
   "display_name": "venv",
   "language": "python",
   "name": "python3"
  },
  "language_info": {
   "codemirror_mode": {
    "name": "ipython",
    "version": 3
   },
   "file_extension": ".py",
   "mimetype": "text/x-python",
   "name": "python",
   "nbconvert_exporter": "python",
   "pygments_lexer": "ipython3",
   "version": "3.8.10"
  },
  "orig_nbformat": 4
 },
 "nbformat": 4,
 "nbformat_minor": 2
}
